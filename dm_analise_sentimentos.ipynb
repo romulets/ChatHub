{
  "nbformat": 4,
  "nbformat_minor": 0,
  "metadata": {
    "colab": {
      "name": "dm_analise_sentimentos.ipynb",
      "provenance": [],
      "authorship_tag": "ABX9TyPmJkpZm4RRPlANtk0U0Ga5",
      "include_colab_link": true
    },
    "kernelspec": {
      "name": "python3",
      "display_name": "Python 3"
    },
    "language_info": {
      "name": "python"
    }
  },
  "cells": [
    {
      "cell_type": "markdown",
      "metadata": {
        "id": "view-in-github",
        "colab_type": "text"
      },
      "source": [
        "<a href=\"https://colab.research.google.com/github/romulets/ChatHub/blob/master/dm_analise_sentimentos.ipynb\" target=\"_parent\"><img src=\"https://colab.research.google.com/assets/colab-badge.svg\" alt=\"Open In Colab\"/></a>"
      ]
    },
    {
      "cell_type": "markdown",
      "metadata": {
        "id": "9FJP9x7oKC7n"
      },
      "source": [
        "# Analise de Sentimentos\n",
        "\n",
        "Títulos de notícias rotuladas com as emoções básicas do Ekman (artigo:\n",
        "Identificando Emoções em Textos em Português do Brasil usando Máquina\n",
        "de Vetores de Suporte em Solução Multiclasse)"
      ]
    },
    {
      "cell_type": "code",
      "metadata": {
        "id": "J4I7KWgTJ_co"
      },
      "source": [
        "import pandas as pd\n",
        "import matplotlib.pyplot as plt\n",
        "import seaborn as  sns"
      ],
      "execution_count": 1,
      "outputs": []
    },
    {
      "cell_type": "code",
      "metadata": {
        "id": "gFfTUNy1KCTB"
      },
      "source": [
        ""
      ],
      "execution_count": null,
      "outputs": []
    }
  ]
}